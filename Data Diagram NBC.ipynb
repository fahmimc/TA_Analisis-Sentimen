{
 "cells": [
  {
   "cell_type": "code",
   "execution_count": 1,
   "id": "sporting-health",
   "metadata": {},
   "outputs": [],
   "source": [
    "import pandas as pd\n",
    "import matplotlib.pyplot as plt\n",
    "import csv"
   ]
  },
  {
   "cell_type": "code",
   "execution_count": null,
   "id": "disabled-outside",
   "metadata": {},
   "outputs": [],
   "source": []
  },
  {
   "cell_type": "code",
   "execution_count": 2,
   "id": "indie-structure",
   "metadata": {},
   "outputs": [
    {
     "data": {
      "text/html": [
       "<div>\n",
       "<style scoped>\n",
       "    .dataframe tbody tr th:only-of-type {\n",
       "        vertical-align: middle;\n",
       "    }\n",
       "\n",
       "    .dataframe tbody tr th {\n",
       "        vertical-align: top;\n",
       "    }\n",
       "\n",
       "    .dataframe thead th {\n",
       "        text-align: right;\n",
       "    }\n",
       "</style>\n",
       "<table border=\"1\" class=\"dataframe\">\n",
       "  <thead>\n",
       "    <tr style=\"text-align: right;\">\n",
       "      <th></th>\n",
       "      <th>Waktu</th>\n",
       "      <th>Tweets</th>\n",
       "      <th>Sentimen</th>\n",
       "    </tr>\n",
       "  </thead>\n",
       "  <tbody>\n",
       "    <tr>\n",
       "      <th>0</th>\n",
       "      <td>2022-12-23 03:01:06</td>\n",
       "      <td>picu konflik sara sengaja lolos cipta kondisi ...</td>\n",
       "      <td>1</td>\n",
       "    </tr>\n",
       "    <tr>\n",
       "      <th>1</th>\n",
       "      <td>2022-12-23 02:57:23</td>\n",
       "      <td>jokowi milu sportif demokrat upaya tunda milu</td>\n",
       "      <td>0</td>\n",
       "    </tr>\n",
       "    <tr>\n",
       "      <th>2</th>\n",
       "      <td>2022-12-23 02:45:22</td>\n",
       "      <td>tahap tunda milu</td>\n",
       "      <td>0</td>\n",
       "    </tr>\n",
       "    <tr>\n",
       "      <th>3</th>\n",
       "      <td>2022-12-23 02:45:17</td>\n",
       "      <td>hubung gara ketua kpu cabul milu tunda</td>\n",
       "      <td>1</td>\n",
       "    </tr>\n",
       "    <tr>\n",
       "      <th>4</th>\n",
       "      <td>2022-12-23 02:43:29</td>\n",
       "      <td>tunda</td>\n",
       "      <td>0</td>\n",
       "    </tr>\n",
       "  </tbody>\n",
       "</table>\n",
       "</div>"
      ],
      "text/plain": [
       "                 Waktu                                             Tweets  \\\n",
       "0  2022-12-23 03:01:06  picu konflik sara sengaja lolos cipta kondisi ...   \n",
       "1  2022-12-23 02:57:23      jokowi milu sportif demokrat upaya tunda milu   \n",
       "2  2022-12-23 02:45:22                                   tahap tunda milu   \n",
       "3  2022-12-23 02:45:17             hubung gara ketua kpu cabul milu tunda   \n",
       "4  2022-12-23 02:43:29                                              tunda   \n",
       "\n",
       "   Sentimen  \n",
       "0         1  \n",
       "1         0  \n",
       "2         0  \n",
       "3         1  \n",
       "4         0  "
      ]
     },
     "execution_count": 2,
     "metadata": {},
     "output_type": "execute_result"
    }
   ],
   "source": [
    "def load_data():\n",
    "    data = pd.read_csv('Hasil_Test/Analisis_MNBC.csv')\n",
    "    return data\n",
    "\n",
    "tweet_df = load_data()\n",
    "tweet_df.head()"
   ]
  },
  {
   "cell_type": "code",
   "execution_count": 3,
   "id": "raising-boating",
   "metadata": {},
   "outputs": [
    {
     "data": {
      "text/html": [
       "<div>\n",
       "<style scoped>\n",
       "    .dataframe tbody tr th:only-of-type {\n",
       "        vertical-align: middle;\n",
       "    }\n",
       "\n",
       "    .dataframe tbody tr th {\n",
       "        vertical-align: top;\n",
       "    }\n",
       "\n",
       "    .dataframe thead th {\n",
       "        text-align: right;\n",
       "    }\n",
       "</style>\n",
       "<table border=\"1\" class=\"dataframe\">\n",
       "  <thead>\n",
       "    <tr style=\"text-align: right;\">\n",
       "      <th></th>\n",
       "      <th>Waktu</th>\n",
       "      <th>Tweets</th>\n",
       "      <th>Sentimen</th>\n",
       "    </tr>\n",
       "  </thead>\n",
       "  <tbody>\n",
       "    <tr>\n",
       "      <th>0</th>\n",
       "      <td>2022-12-23 03:01:06</td>\n",
       "      <td>picu konflik sara sengaja lolos cipta kondisi ...</td>\n",
       "      <td>1</td>\n",
       "    </tr>\n",
       "    <tr>\n",
       "      <th>1</th>\n",
       "      <td>2022-12-23 02:57:23</td>\n",
       "      <td>jokowi milu sportif demokrat upaya tunda milu</td>\n",
       "      <td>0</td>\n",
       "    </tr>\n",
       "    <tr>\n",
       "      <th>2</th>\n",
       "      <td>2022-12-23 02:45:22</td>\n",
       "      <td>tahap tunda milu</td>\n",
       "      <td>0</td>\n",
       "    </tr>\n",
       "    <tr>\n",
       "      <th>3</th>\n",
       "      <td>2022-12-23 02:45:17</td>\n",
       "      <td>hubung gara ketua kpu cabul milu tunda</td>\n",
       "      <td>1</td>\n",
       "    </tr>\n",
       "    <tr>\n",
       "      <th>4</th>\n",
       "      <td>2022-12-23 02:43:29</td>\n",
       "      <td>tunda</td>\n",
       "      <td>0</td>\n",
       "    </tr>\n",
       "  </tbody>\n",
       "</table>\n",
       "</div>"
      ],
      "text/plain": [
       "                 Waktu                                             Tweets  \\\n",
       "0  2022-12-23 03:01:06  picu konflik sara sengaja lolos cipta kondisi ...   \n",
       "1  2022-12-23 02:57:23      jokowi milu sportif demokrat upaya tunda milu   \n",
       "2  2022-12-23 02:45:22                                   tahap tunda milu   \n",
       "3  2022-12-23 02:45:17             hubung gara ketua kpu cabul milu tunda   \n",
       "4  2022-12-23 02:43:29                                              tunda   \n",
       "\n",
       "   Sentimen  \n",
       "0         1  \n",
       "1         0  \n",
       "2         0  \n",
       "3         1  \n",
       "4         0  "
      ]
     },
     "execution_count": 3,
     "metadata": {},
     "output_type": "execute_result"
    }
   ],
   "source": [
    "df = pd.DataFrame(tweet_df[['Waktu', 'Tweets', 'Sentimen']])\n",
    "tweet_df.head()"
   ]
  },
  {
   "cell_type": "code",
   "execution_count": 4,
   "id": "smoking-atmosphere",
   "metadata": {},
   "outputs": [
    {
     "name": "stderr",
     "output_type": "stream",
     "text": [
      "<ipython-input-4-83bcec243ac5>:8: SettingWithCopyWarning: \n",
      "A value is trying to be set on a copy of a slice from a DataFrame\n",
      "\n",
      "See the caveats in the documentation: https://pandas.pydata.org/pandas-docs/stable/user_guide/indexing.html#returning-a-view-versus-a-copy\n",
      "  Waktu[tgl] = Waktu[tgl][5:10]\n"
     ]
    },
    {
     "name": "stdout",
     "output_type": "stream",
     "text": [
      "['12-23', '12-22', '12-21', '12-20', '12-19', '12-18', '12-17', '12-16', '12-15', '12-14', '12-13']\n",
      "[8, 18, 18, 14, 14, 14, 13, 13, 30, 68, 1] [10, 29, 21, 27, 44, 45, 31, 31, 49, 145, 7]\n"
     ]
    }
   ],
   "source": [
    "tweet_df.head()\n",
    "Waktu = df['Waktu']\n",
    "result = []\n",
    "\n",
    "# pengurangan tahun dan jam pada data waktu #\n",
    "if len(df['Waktu'][0]) != 5:\n",
    "    for tgl in range(len(Waktu)):\n",
    "        Waktu[tgl] = Waktu[tgl][5:10]\n",
    "\n",
    "# waktu\n",
    "df.head()\n",
    "tanggal_fix = []\n",
    "\n",
    "\n",
    "for i in Waktu:\n",
    "    if i not in tanggal_fix:\n",
    "        tanggal_fix.append(i)\n",
    "\n",
    "jumlah_polarity = []\n",
    "count = []\n",
    "mines = []\n",
    "plus = []\n",
    "\n",
    "for i in range(len(tanggal_fix)):\n",
    "    jumlah_polarity.append(0)\n",
    "    count.append(0)\n",
    "    mines.append(0)\n",
    "    plus.append(0)\n",
    "\n",
    "print(tanggal_fix)\n",
    "for i in range(len(Waktu)):\n",
    "    for j in range(len(tanggal_fix)):\n",
    "        if df['Waktu'][i] == tanggal_fix[j]:\n",
    "            jumlah_polarity[j] += df[\"Sentimen\"][i]\n",
    "            count[j] += 1\n",
    "            if df['Sentimen'][i] == 1:\n",
    "                plus[j] += 1\n",
    "            else:\n",
    "                mines[j] += 1\n",
    "            continue\n",
    "\n",
    "\n",
    "print(plus, mines)\n",
    "avg = []\n",
    "\n",
    "for i in range(len(tanggal_fix)):\n",
    "    avg.append(round((plus[i]-mines[i])/count[i], 2))\n",
    "\n",
    "\n",
    "# print(tot)\n"
   ]
  },
  {
   "cell_type": "code",
   "execution_count": 5,
   "id": "gothic-thomson",
   "metadata": {},
   "outputs": [],
   "source": [
    "import csv\n",
    "from itertools import zip_longest\n",
    "d = [tanggal_fix, jumlah_polarity, plus, mines, count, avg]\n",
    "export_data = zip_longest(*d, fillvalue='')\n",
    "with open('dataperhari.csv', 'w', encoding=\"ISO-8859-1\", newline='') as myfile:\n",
    "    wr = csv.writer(myfile)\n",
    "    wr.writerow((\"tanggal\", \"jumlah sentimen\", \"positif\", \"negatif\", \"jumlah data\", \"rata_rata\"))\n",
    "    wr.writerows(export_data)\n",
    "myfile.close()"
   ]
  },
  {
   "cell_type": "code",
   "execution_count": 6,
   "id": "artificial-divide",
   "metadata": {},
   "outputs": [
    {
     "data": {
      "text/html": [
       "<div>\n",
       "<style scoped>\n",
       "    .dataframe tbody tr th:only-of-type {\n",
       "        vertical-align: middle;\n",
       "    }\n",
       "\n",
       "    .dataframe tbody tr th {\n",
       "        vertical-align: top;\n",
       "    }\n",
       "\n",
       "    .dataframe thead th {\n",
       "        text-align: right;\n",
       "    }\n",
       "</style>\n",
       "<table border=\"1\" class=\"dataframe\">\n",
       "  <thead>\n",
       "    <tr style=\"text-align: right;\">\n",
       "      <th></th>\n",
       "      <th>tanggal</th>\n",
       "      <th>jumlah sentimen</th>\n",
       "      <th>positif</th>\n",
       "      <th>negatif</th>\n",
       "      <th>jumlah data</th>\n",
       "      <th>rata_rata</th>\n",
       "    </tr>\n",
       "  </thead>\n",
       "  <tbody>\n",
       "    <tr>\n",
       "      <th>10</th>\n",
       "      <td>12-13</td>\n",
       "      <td>1</td>\n",
       "      <td>1</td>\n",
       "      <td>7</td>\n",
       "      <td>8</td>\n",
       "      <td>-0.75</td>\n",
       "    </tr>\n",
       "    <tr>\n",
       "      <th>9</th>\n",
       "      <td>12-14</td>\n",
       "      <td>68</td>\n",
       "      <td>68</td>\n",
       "      <td>145</td>\n",
       "      <td>213</td>\n",
       "      <td>-0.36</td>\n",
       "    </tr>\n",
       "    <tr>\n",
       "      <th>8</th>\n",
       "      <td>12-15</td>\n",
       "      <td>30</td>\n",
       "      <td>30</td>\n",
       "      <td>49</td>\n",
       "      <td>79</td>\n",
       "      <td>-0.24</td>\n",
       "    </tr>\n",
       "    <tr>\n",
       "      <th>7</th>\n",
       "      <td>12-16</td>\n",
       "      <td>13</td>\n",
       "      <td>13</td>\n",
       "      <td>31</td>\n",
       "      <td>44</td>\n",
       "      <td>-0.41</td>\n",
       "    </tr>\n",
       "    <tr>\n",
       "      <th>6</th>\n",
       "      <td>12-17</td>\n",
       "      <td>13</td>\n",
       "      <td>13</td>\n",
       "      <td>31</td>\n",
       "      <td>44</td>\n",
       "      <td>-0.41</td>\n",
       "    </tr>\n",
       "    <tr>\n",
       "      <th>5</th>\n",
       "      <td>12-18</td>\n",
       "      <td>14</td>\n",
       "      <td>14</td>\n",
       "      <td>45</td>\n",
       "      <td>59</td>\n",
       "      <td>-0.53</td>\n",
       "    </tr>\n",
       "    <tr>\n",
       "      <th>4</th>\n",
       "      <td>12-19</td>\n",
       "      <td>14</td>\n",
       "      <td>14</td>\n",
       "      <td>44</td>\n",
       "      <td>58</td>\n",
       "      <td>-0.52</td>\n",
       "    </tr>\n",
       "    <tr>\n",
       "      <th>3</th>\n",
       "      <td>12-20</td>\n",
       "      <td>14</td>\n",
       "      <td>14</td>\n",
       "      <td>27</td>\n",
       "      <td>41</td>\n",
       "      <td>-0.32</td>\n",
       "    </tr>\n",
       "    <tr>\n",
       "      <th>2</th>\n",
       "      <td>12-21</td>\n",
       "      <td>18</td>\n",
       "      <td>18</td>\n",
       "      <td>21</td>\n",
       "      <td>39</td>\n",
       "      <td>-0.08</td>\n",
       "    </tr>\n",
       "    <tr>\n",
       "      <th>1</th>\n",
       "      <td>12-22</td>\n",
       "      <td>18</td>\n",
       "      <td>18</td>\n",
       "      <td>29</td>\n",
       "      <td>47</td>\n",
       "      <td>-0.23</td>\n",
       "    </tr>\n",
       "    <tr>\n",
       "      <th>0</th>\n",
       "      <td>12-23</td>\n",
       "      <td>8</td>\n",
       "      <td>8</td>\n",
       "      <td>10</td>\n",
       "      <td>18</td>\n",
       "      <td>-0.11</td>\n",
       "    </tr>\n",
       "  </tbody>\n",
       "</table>\n",
       "</div>"
      ],
      "text/plain": [
       "   tanggal  jumlah sentimen  positif  negatif  jumlah data  rata_rata\n",
       "10   12-13                1        1        7            8      -0.75\n",
       "9    12-14               68       68      145          213      -0.36\n",
       "8    12-15               30       30       49           79      -0.24\n",
       "7    12-16               13       13       31           44      -0.41\n",
       "6    12-17               13       13       31           44      -0.41\n",
       "5    12-18               14       14       45           59      -0.53\n",
       "4    12-19               14       14       44           58      -0.52\n",
       "3    12-20               14       14       27           41      -0.32\n",
       "2    12-21               18       18       21           39      -0.08\n",
       "1    12-22               18       18       29           47      -0.23\n",
       "0    12-23                8        8       10           18      -0.11"
      ]
     },
     "execution_count": 6,
     "metadata": {},
     "output_type": "execute_result"
    }
   ],
   "source": [
    "# mengurutkan data\n",
    "def load_data(datas):\n",
    "    data = pd.read_csv(datas)\n",
    "    return data\n",
    "\n",
    "df2 = load_data('dataperhari.csv')\n",
    "df2sorted = df2.sort_values(by=[\"tanggal\"], ascending=True)\n",
    "df2sorted"
   ]
  },
  {
   "cell_type": "code",
   "execution_count": null,
   "id": "early-skirt",
   "metadata": {},
   "outputs": [],
   "source": []
  },
  {
   "cell_type": "code",
   "execution_count": 7,
   "id": "velvet-conspiracy",
   "metadata": {},
   "outputs": [
    {
     "name": "stdout",
     "output_type": "stream",
     "text": [
      "[10, 29, 21, 27, 44, 45, 31, 31, 49, 145, 7]\n"
     ]
    }
   ],
   "source": [
    "print(df2['negatif'].tolist())"
   ]
  },
  {
   "cell_type": "code",
   "execution_count": 8,
   "id": "useful-richardson",
   "metadata": {},
   "outputs": [
    {
     "data": {
      "text/plain": [
       "<Figure size 3600x2400 with 0 Axes>"
      ]
     },
     "metadata": {},
     "output_type": "display_data"
    },
    {
     "data": {
      "image/png": "[encoded data removed]",
      "text/plain": [
       "<Figure size 1080x576 with 1 Axes>"
      ]
     },
     "metadata": {
      "needs_background": "light"
     },
     "output_type": "display_data"
    }
   ],
   "source": [
    "plt.figure(dpi=600)\n",
    "plotdata = pd.DataFrame({\n",
    "    \"positif\": df2sorted['positif'].tolist(),\n",
    "    \"negatif\": df2sorted['negatif'].tolist()},\n",
    "    index=df2sorted['tanggal']\n",
    ")\n",
    "plotdata.plot(kind=\"bar\", figsize=(15, 8))\n",
    "\n",
    "plt.title(\"Sentiment Ratings\")\n",
    "\n",
    "plt.xlabel(\"Tanggal\")\n",
    "\n",
    "plt.ylabel(\"Jumlah\")\n",
    "plt.savefig(\"gambar/diagram_sentimen_mnbc.png\")\n",
    "# plt.bar(bar_coords, date)\n",
    "# plt.xticks(bar_coords, fix)\n",
    "plt.show()"
   ]
  },
  {
   "cell_type": "code",
   "execution_count": 9,
   "id": "entire-italy",
   "metadata": {},
   "outputs": [
    {
     "data": {
      "text/html": [
       "<div>\n",
       "<style scoped>\n",
       "    .dataframe tbody tr th:only-of-type {\n",
       "        vertical-align: middle;\n",
       "    }\n",
       "\n",
       "    .dataframe tbody tr th {\n",
       "        vertical-align: top;\n",
       "    }\n",
       "\n",
       "    .dataframe thead th {\n",
       "        text-align: right;\n",
       "    }\n",
       "</style>\n",
       "<table border=\"1\" class=\"dataframe\">\n",
       "  <thead>\n",
       "    <tr style=\"text-align: right;\">\n",
       "      <th></th>\n",
       "      <th>Waktu</th>\n",
       "      <th>Tweets</th>\n",
       "      <th>Sentimen</th>\n",
       "    </tr>\n",
       "  </thead>\n",
       "  <tbody>\n",
       "    <tr>\n",
       "      <th>0</th>\n",
       "      <td>2022-12-23 03:01:06</td>\n",
       "      <td>picu konflik sara sengaja lolos cipta kondisi ...</td>\n",
       "      <td>1</td>\n",
       "    </tr>\n",
       "    <tr>\n",
       "      <th>1</th>\n",
       "      <td>2022-12-23 02:57:23</td>\n",
       "      <td>jokowi milu sportif demokrat upaya tunda milu</td>\n",
       "      <td>0</td>\n",
       "    </tr>\n",
       "    <tr>\n",
       "      <th>2</th>\n",
       "      <td>2022-12-23 02:45:22</td>\n",
       "      <td>tahap tunda milu</td>\n",
       "      <td>0</td>\n",
       "    </tr>\n",
       "    <tr>\n",
       "      <th>3</th>\n",
       "      <td>2022-12-23 02:45:17</td>\n",
       "      <td>hubung gara ketua kpu cabul milu tunda</td>\n",
       "      <td>1</td>\n",
       "    </tr>\n",
       "    <tr>\n",
       "      <th>4</th>\n",
       "      <td>2022-12-23 02:43:29</td>\n",
       "      <td>tunda</td>\n",
       "      <td>0</td>\n",
       "    </tr>\n",
       "  </tbody>\n",
       "</table>\n",
       "</div>"
      ],
      "text/plain": [
       "                 Waktu                                             Tweets  \\\n",
       "0  2022-12-23 03:01:06  picu konflik sara sengaja lolos cipta kondisi ...   \n",
       "1  2022-12-23 02:57:23      jokowi milu sportif demokrat upaya tunda milu   \n",
       "2  2022-12-23 02:45:22                                   tahap tunda milu   \n",
       "3  2022-12-23 02:45:17             hubung gara ketua kpu cabul milu tunda   \n",
       "4  2022-12-23 02:43:29                                              tunda   \n",
       "\n",
       "   Sentimen  \n",
       "0         1  \n",
       "1         0  \n",
       "2         0  \n",
       "3         1  \n",
       "4         0  "
      ]
     },
     "execution_count": 9,
     "metadata": {},
     "output_type": "execute_result"
    }
   ],
   "source": [
    "tweet_df.head()"
   ]
  },
  {
   "cell_type": "code",
   "execution_count": 10,
   "id": "applied-device",
   "metadata": {},
   "outputs": [
    {
     "data": {
      "text/plain": [
       "0    439\n",
       "1    211\n",
       "Name: Sentimen, dtype: int64"
      ]
     },
     "execution_count": 10,
     "metadata": {},
     "output_type": "execute_result"
    }
   ],
   "source": [
    "tweet_df['Sentimen'].value_counts()"
   ]
  },
  {
   "cell_type": "code",
   "execution_count": 11,
   "id": "fifth-graduate",
   "metadata": {},
   "outputs": [],
   "source": [
    "def polarity_encode(x):\n",
    "    if(x == 1):\n",
    "        return 'Positif'\n",
    "    if(x == 0):\n",
    "        return 'Negatif'\n",
    "tweet_df.Sentimen = tweet_df.Sentimen.apply(polarity_encode)\n",
    "#tweet_df.head()"
   ]
  },
  {
   "cell_type": "code",
   "execution_count": 12,
   "id": "decimal-russia",
   "metadata": {},
   "outputs": [
    {
     "data": {
      "image/png": "[encoded data removed]",
      "text/plain": [
       "<Figure size 288x288 with 1 Axes>"
      ]
     },
     "metadata": {},
     "output_type": "display_data"
    }
   ],
   "source": [
    "import matplotlib.pyplot as plt\n",
    "fig, ax = plt.subplots(figsize = (4, 4))\n",
    "sizes = [count for count in tweet_df['Sentimen'].value_counts()]\n",
    "labels = list(tweet_df['Sentimen'].value_counts().index)\n",
    "colors = ['darkorange', 'royalblue']\n",
    "explode = (0, 0)\n",
    "ax.pie(x = sizes, labels = labels, colors = colors, autopct = '%1.1f%%', explode = explode, textprops={'fontsize': 10})\n",
    "plt.show()"
   ]
  },
  {
   "cell_type": "code",
   "execution_count": 13,
   "id": "supreme-conversion",
   "metadata": {},
   "outputs": [
    {
     "data": {
      "text/plain": [
       "Negatif    439\n",
       "Positif    211\n",
       "Name: Sentimen, dtype: int64"
      ]
     },
     "execution_count": 13,
     "metadata": {},
     "output_type": "execute_result"
    }
   ],
   "source": [
    "tweet_df['Sentimen'].value_counts()"
   ]
  },
  {
   "cell_type": "code",
   "execution_count": null,
   "id": "false-program",
   "metadata": {},
   "outputs": [],
   "source": []
  }
 ],
 "metadata": {
  "kernelspec": {
   "display_name": "Python 3",
   "language": "python",
   "name": "python3"
  },
  "language_info": {
   "codemirror_mode": {
    "name": "ipython",
    "version": 3
   },
   "file_extension": ".py",
   "mimetype": "text/x-python",
   "name": "python",
   "nbconvert_exporter": "python",
   "pygments_lexer": "ipython3",
   "version": "3.9.2"
  }
 },
 "nbformat": 4,
 "nbformat_minor": 5
}
