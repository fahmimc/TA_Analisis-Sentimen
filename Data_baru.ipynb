{
 "cells": [
  {
   "cell_type": "code",
   "execution_count": 1,
   "id": "demanding-pharmaceutical",
   "metadata": {},
   "outputs": [],
   "source": [
    "import pandas as pd"
   ]
  },
  {
   "cell_type": "code",
   "execution_count": null,
   "id": "ready-services",
   "metadata": {},
   "outputs": [],
   "source": []
  },
  {
   "cell_type": "code",
   "execution_count": null,
   "id": "dietary-stations",
   "metadata": {},
   "outputs": [],
   "source": [
    "# Load dataset\n",
    "tweet_df = pd.read_csv(\"data_klasifikasi.csv\", encoding ='utf8')\n",
    "tweet_df.(5)"
   ]
  },
  {
   "cell_type": "code",
   "execution_count": 7,
   "id": "plain-stick",
   "metadata": {},
   "outputs": [
    {
     "data": {
      "text/html": [
       "<div>\n",
       "<style scoped>\n",
       "    .dataframe tbody tr th:only-of-type {\n",
       "        vertical-align: middle;\n",
       "    }\n",
       "\n",
       "    .dataframe tbody tr th {\n",
       "        vertical-align: top;\n",
       "    }\n",
       "\n",
       "    .dataframe thead th {\n",
       "        text-align: right;\n",
       "    }\n",
       "</style>\n",
       "<table border=\"1\" class=\"dataframe\">\n",
       "  <thead>\n",
       "    <tr style=\"text-align: right;\">\n",
       "      <th></th>\n",
       "      <th>waktu</th>\n",
       "      <th>tweets</th>\n",
       "    </tr>\n",
       "  </thead>\n",
       "  <tbody>\n",
       "    <tr>\n",
       "      <th>0</th>\n",
       "      <td>2022-12-23 03:01:06</td>\n",
       "      <td>picu konflik sara sengaja lolos cipta kondisi ...</td>\n",
       "    </tr>\n",
       "    <tr>\n",
       "      <th>1</th>\n",
       "      <td>2022-12-23 02:57:23</td>\n",
       "      <td>jokowi milu sportif demokrat upaya tunda milu</td>\n",
       "    </tr>\n",
       "    <tr>\n",
       "      <th>2</th>\n",
       "      <td>2022-12-23 02:45:22</td>\n",
       "      <td>tahap tunda milu</td>\n",
       "    </tr>\n",
       "    <tr>\n",
       "      <th>3</th>\n",
       "      <td>2022-12-23 02:45:17</td>\n",
       "      <td>hubung gara ketua kpu cabul milu tunda</td>\n",
       "    </tr>\n",
       "    <tr>\n",
       "      <th>4</th>\n",
       "      <td>2022-12-23 02:43:29</td>\n",
       "      <td>tunda</td>\n",
       "    </tr>\n",
       "    <tr>\n",
       "      <th>...</th>\n",
       "      <td>...</td>\n",
       "      <td>...</td>\n",
       "    </tr>\n",
       "    <tr>\n",
       "      <th>645</th>\n",
       "      <td>2022-12-13 23:19:42</td>\n",
       "      <td>tuju cerita tunda milu wacana periode</td>\n",
       "    </tr>\n",
       "    <tr>\n",
       "      <th>646</th>\n",
       "      <td>2022-12-13 22:52:45</td>\n",
       "      <td>negara nenek moyang kudeta konstitusi undang b...</td>\n",
       "    </tr>\n",
       "    <tr>\n",
       "      <th>647</th>\n",
       "      <td>2022-12-13 22:23:28</td>\n",
       "      <td>cebong ngotot tunda milu periode iya iya kasih...</td>\n",
       "    </tr>\n",
       "    <tr>\n",
       "      <th>648</th>\n",
       "      <td>2022-12-13 22:04:54</td>\n",
       "      <td>harus milu tundatetapi tiadakansoal dpn matara...</td>\n",
       "    </tr>\n",
       "    <tr>\n",
       "      <th>649</th>\n",
       "      <td>2022-12-13 22:03:34</td>\n",
       "      <td>memble ikn tunda milu periode</td>\n",
       "    </tr>\n",
       "  </tbody>\n",
       "</table>\n",
       "<p>650 rows × 2 columns</p>\n",
       "</div>"
      ],
      "text/plain": [
       "                   waktu                                             tweets\n",
       "0    2022-12-23 03:01:06  picu konflik sara sengaja lolos cipta kondisi ...\n",
       "1    2022-12-23 02:57:23      jokowi milu sportif demokrat upaya tunda milu\n",
       "2    2022-12-23 02:45:22                                   tahap tunda milu\n",
       "3    2022-12-23 02:45:17             hubung gara ketua kpu cabul milu tunda\n",
       "4    2022-12-23 02:43:29                                              tunda\n",
       "..                   ...                                                ...\n",
       "645  2022-12-13 23:19:42              tuju cerita tunda milu wacana periode\n",
       "646  2022-12-13 22:52:45  negara nenek moyang kudeta konstitusi undang b...\n",
       "647  2022-12-13 22:23:28  cebong ngotot tunda milu periode iya iya kasih...\n",
       "648  2022-12-13 22:04:54  harus milu tundatetapi tiadakansoal dpn matara...\n",
       "649  2022-12-13 22:03:34                      memble ikn tunda milu periode\n",
       "\n",
       "[650 rows x 2 columns]"
      ]
     },
     "execution_count": 7,
     "metadata": {},
     "output_type": "execute_result"
    }
   ],
   "source": [
    "tweet_df = pd.DataFrame(data = {'waktu' : tweet_df['waktu'], 'tweets' : tweet_df['tweets']})\n",
    "tweet_df"
   ]
  },
  {
   "cell_type": "code",
   "execution_count": 3,
   "id": "manual-trash",
   "metadata": {},
   "outputs": [],
   "source": [
    "def polarity_encode(x):\n",
    "    if(x == 1):\n",
    "        return 'Positif'\n",
    "    if(x == 0):\n",
    "        return 'Negatif'\n",
    "tweet_df.Sentimen = tweet_df.Sentimen.apply(polarity_encode)\n",
    "#tweet_df.head()"
   ]
  },
  {
   "cell_type": "code",
   "execution_count": 6,
   "id": "assigned-shock",
   "metadata": {},
   "outputs": [
    {
     "data": {
      "image/png": "[encoded data removed]",
      "text/plain": [
       "<Figure size 288x288 with 1 Axes>"
      ]
     },
     "metadata": {},
     "output_type": "display_data"
    }
   ],
   "source": [
    "import matplotlib.pyplot as plt\n",
    "fig, ax = plt.subplots(figsize = (4, 4))\n",
    "sizes = [count for count in tweet_df['Sentimen'].value_counts()]\n",
    "labels = list(tweet_df['Sentimen'].value_counts().index)\n",
    "colors = ['royalblue', 'darkorange']\n",
    "explode = (0, 0)\n",
    "ax.pie(x = sizes, labels = labels, colors = colors, autopct = '%1.1f%%', explode = explode, textprops={'fontsize': 10})\n",
    "plt.show()"
   ]
  },
  {
   "cell_type": "code",
   "execution_count": 7,
   "id": "european-binary",
   "metadata": {},
   "outputs": [
    {
     "data": {
      "text/plain": [
       "Positif    344\n",
       "Negatif    306\n",
       "Name: Sentimen, dtype: int64"
      ]
     },
     "execution_count": 7,
     "metadata": {},
     "output_type": "execute_result"
    }
   ],
   "source": [
    "tweet_df['Sentimen'].value_counts()"
   ]
  },
  {
   "cell_type": "code",
   "execution_count": null,
   "id": "portable-builder",
   "metadata": {},
   "outputs": [],
   "source": []
  }
 ],
 "metadata": {
  "kernelspec": {
   "display_name": "Python 3",
   "language": "python",
   "name": "python3"
  },
  "language_info": {
   "codemirror_mode": {
    "name": "ipython",
    "version": 3
   },
   "file_extension": ".py",
   "mimetype": "text/x-python",
   "name": "python",
   "nbconvert_exporter": "python",
   "pygments_lexer": "ipython3",
   "version": "3.9.2"
  }
 },
 "nbformat": 4,
 "nbformat_minor": 5
}
