{
 "cells": [
  {
   "cell_type": "code",
   "execution_count": 1,
   "id": "governmental-incidence",
   "metadata": {},
   "outputs": [],
   "source": [
    "import pandas as pd\n",
    "from tensorflow import keras\n",
    "from tensorflow.keras.preprocessing.text import Tokenizer\n",
    "from tensorflow.keras.preprocessing.sequence import pad_sequences\n",
    "from sklearn.model_selection import train_test_split\n",
    "from sklearn.metrics import accuracy_score, f1_score, confusion_matrix\n",
    "from tensorflow.keras.models import Sequential\n",
    "from tensorflow.keras.layers import Embedding, Dense, Dropout, LSTM, Activation, GRU, Flatten\n",
    "from tensorflow.keras.layers import Bidirectional, GlobalMaxPool1D\n",
    "from tensorflow.keras.layers import Convolution1D\n",
    "from tensorflow.keras import initializers, regularizers, constraints, optimizers, layers\n",
    "from tensorflow.keras.optimizers import Adam, RMSprop, SGD\n",
    "from tensorflow.keras.callbacks import EarlyStopping\n",
    "from tensorflow.keras.wrappers.scikit_learn import KerasClassifier\n",
    "from sklearn.model_selection import GridSearchCV\n",
    "from mlxtend.plotting import plot_confusion_matrix\n",
    "from sklearn.metrics import confusion_matrix"
   ]
  },
  {
   "cell_type": "code",
   "execution_count": 2,
   "id": "focused-newark",
   "metadata": {},
   "outputs": [
    {
     "data": {
      "text/html": [
       "<div>\n",
       "<style scoped>\n",
       "    .dataframe tbody tr th:only-of-type {\n",
       "        vertical-align: middle;\n",
       "    }\n",
       "\n",
       "    .dataframe tbody tr th {\n",
       "        vertical-align: top;\n",
       "    }\n",
       "\n",
       "    .dataframe thead th {\n",
       "        text-align: right;\n",
       "    }\n",
       "</style>\n",
       "<table border=\"1\" class=\"dataframe\">\n",
       "  <thead>\n",
       "    <tr style=\"text-align: right;\">\n",
       "      <th></th>\n",
       "      <th>waktu</th>\n",
       "      <th>tweets</th>\n",
       "      <th>polarity</th>\n",
       "    </tr>\n",
       "  </thead>\n",
       "  <tbody>\n",
       "    <tr>\n",
       "      <th>0</th>\n",
       "      <td>2022-09-18 06:09:26</td>\n",
       "      <td>rangkum aktivitas kader isu kembang kait parta...</td>\n",
       "      <td>1</td>\n",
       "    </tr>\n",
       "    <tr>\n",
       "      <th>1</th>\n",
       "      <td>2022-09-18 04:17:28</td>\n",
       "      <td>tunda milu periode cawapres nambah tahun dan l...</td>\n",
       "      <td>1</td>\n",
       "    </tr>\n",
       "    <tr>\n",
       "      <th>2</th>\n",
       "      <td>2022-09-17 17:31:57</td>\n",
       "      <td>purnawirawan jendral mantan presiden uang pasu...</td>\n",
       "      <td>0</td>\n",
       "    </tr>\n",
       "    <tr>\n",
       "      <th>3</th>\n",
       "      <td>2022-09-14 07:45:49</td>\n",
       "      <td>ahok peras rakyat iya pelan periode ma</td>\n",
       "      <td>1</td>\n",
       "    </tr>\n",
       "    <tr>\n",
       "      <th>4</th>\n",
       "      <td>2022-09-14 02:50:19</td>\n",
       "      <td>niat tunda milu</td>\n",
       "      <td>1</td>\n",
       "    </tr>\n",
       "  </tbody>\n",
       "</table>\n",
       "</div>"
      ],
      "text/plain": [
       "                 waktu                                             tweets  \\\n",
       "0  2022-09-18 06:09:26  rangkum aktivitas kader isu kembang kait parta...   \n",
       "1  2022-09-18 04:17:28  tunda milu periode cawapres nambah tahun dan l...   \n",
       "2  2022-09-17 17:31:57  purnawirawan jendral mantan presiden uang pasu...   \n",
       "3  2022-09-14 07:45:49             ahok peras rakyat iya pelan periode ma   \n",
       "4  2022-09-14 02:50:19                                    niat tunda milu   \n",
       "\n",
       "   polarity  \n",
       "0         1  \n",
       "1         1  \n",
       "2         0  \n",
       "3         1  \n",
       "4         1  "
      ]
     },
     "execution_count": 2,
     "metadata": {},
     "output_type": "execute_result"
    }
   ],
   "source": [
    "# Load dataset\n",
    "tweet_df = pd.read_csv(\"data_traintest.csv\", encoding ='unicode_escape')\n",
    "tweet_df.head(5)"
   ]
  },
  {
   "cell_type": "code",
   "execution_count": 3,
   "id": "integral-commitment",
   "metadata": {},
   "outputs": [
    {
     "data": {
      "text/html": [
       "<div>\n",
       "<style scoped>\n",
       "    .dataframe tbody tr th:only-of-type {\n",
       "        vertical-align: middle;\n",
       "    }\n",
       "\n",
       "    .dataframe tbody tr th {\n",
       "        vertical-align: top;\n",
       "    }\n",
       "\n",
       "    .dataframe thead th {\n",
       "        text-align: right;\n",
       "    }\n",
       "</style>\n",
       "<table border=\"1\" class=\"dataframe\">\n",
       "  <thead>\n",
       "    <tr style=\"text-align: right;\">\n",
       "      <th></th>\n",
       "      <th>waktu</th>\n",
       "      <th>tweets</th>\n",
       "      <th>polarity</th>\n",
       "    </tr>\n",
       "  </thead>\n",
       "  <tbody>\n",
       "    <tr>\n",
       "      <th>0</th>\n",
       "      <td>2022-09-18 06:09:26</td>\n",
       "      <td>rangkum aktivitas kader isu kembang kait parta...</td>\n",
       "      <td>1</td>\n",
       "    </tr>\n",
       "    <tr>\n",
       "      <th>1</th>\n",
       "      <td>2022-09-18 04:17:28</td>\n",
       "      <td>tunda milu periode cawapres nambah tahun dan l...</td>\n",
       "      <td>1</td>\n",
       "    </tr>\n",
       "    <tr>\n",
       "      <th>2</th>\n",
       "      <td>2022-09-17 17:31:57</td>\n",
       "      <td>purnawirawan jendral mantan presiden uang pasu...</td>\n",
       "      <td>0</td>\n",
       "    </tr>\n",
       "    <tr>\n",
       "      <th>3</th>\n",
       "      <td>2022-09-14 07:45:49</td>\n",
       "      <td>ahok peras rakyat iya pelan periode ma</td>\n",
       "      <td>1</td>\n",
       "    </tr>\n",
       "    <tr>\n",
       "      <th>4</th>\n",
       "      <td>2022-09-14 02:50:19</td>\n",
       "      <td>niat tunda milu</td>\n",
       "      <td>1</td>\n",
       "    </tr>\n",
       "  </tbody>\n",
       "</table>\n",
       "</div>"
      ],
      "text/plain": [
       "                 waktu                                             tweets  \\\n",
       "0  2022-09-18 06:09:26  rangkum aktivitas kader isu kembang kait parta...   \n",
       "1  2022-09-18 04:17:28  tunda milu periode cawapres nambah tahun dan l...   \n",
       "2  2022-09-17 17:31:57  purnawirawan jendral mantan presiden uang pasu...   \n",
       "3  2022-09-14 07:45:49             ahok peras rakyat iya pelan periode ma   \n",
       "4  2022-09-14 02:50:19                                    niat tunda milu   \n",
       "\n",
       "   polarity  \n",
       "0         1  \n",
       "1         1  \n",
       "2         0  \n",
       "3         1  \n",
       "4         1  "
      ]
     },
     "execution_count": 3,
     "metadata": {},
     "output_type": "execute_result"
    }
   ],
   "source": [
    "#definisi dataframe\n",
    "df = pd.DataFrame(tweet_df[['waktu', 'tweets', 'polarity']])\n",
    "df.head()"
   ]
  },
  {
   "cell_type": "code",
   "execution_count": 4,
   "id": "coupled-draft",
   "metadata": {},
   "outputs": [
    {
     "data": {
      "text/plain": [
       "0    758\n",
       "1    667\n",
       "Name: polarity, dtype: int64"
      ]
     },
     "execution_count": 4,
     "metadata": {},
     "output_type": "execute_result"
    }
   ],
   "source": [
    "df['polarity'].value_counts()"
   ]
  },
  {
   "cell_type": "code",
   "execution_count": 5,
   "id": "desirable-swaziland",
   "metadata": {},
   "outputs": [
    {
     "data": {
      "text/plain": [
       "0    0.5\n",
       "1    0.5\n",
       "Name: polarity, dtype: float64"
      ]
     },
     "execution_count": 5,
     "metadata": {},
     "output_type": "execute_result"
    }
   ],
   "source": [
    "#balancing dataset\n",
    "data1 = df[df['polarity']==0].sample(712,replace=True)\n",
    "data2 = df[df['polarity']==1].sample(712,replace=True)\n",
    "df=pd.concat([data1, data2])\n",
    "\n",
    "df.shape\n",
    "df['polarity'].value_counts(normalize=True)"
   ]
  },
  {
   "cell_type": "code",
   "execution_count": 6,
   "id": "injured-central",
   "metadata": {},
   "outputs": [
    {
     "data": {
      "text/plain": [
       "array([[   0,    0,    0, ...,  571,  572,  435],\n",
       "       [   0,    0,    0, ...,    2,    1,    6],\n",
       "       [   0,    0,    0, ...,   12,    2, 1245],\n",
       "       ...,\n",
       "       [   0,    0,    0, ...,    9,  732,  820],\n",
       "       [   0,    0,    0, ..., 1194,    2,    1],\n",
       "       [   0,    0,    0, ...,    1,   61,  158]])"
      ]
     },
     "execution_count": 6,
     "metadata": {},
     "output_type": "execute_result"
    }
   ],
   "source": [
    "input_dim = 10000 #Ukuran max dimensi kata\n",
    "max_tweets_length = 200 #Batas max panjang sequence kata\n",
    "texts = pd.concat([df['tweets']], axis = 0).astype(\"str\")\n",
    "tokenizer = Tokenizer(num_words=input_dim)\n",
    "tokenizer.fit_on_texts(texts)\n",
    "\n",
    "X = tokenizer.texts_to_sequences(texts)\n",
    "X = pad_sequences(X, maxlen=max_tweets_length)\n",
    "X\n",
    "#X.shape"
   ]
  },
  {
   "cell_type": "code",
   "execution_count": 7,
   "id": "mediterranean-bahamas",
   "metadata": {},
   "outputs": [
    {
     "data": {
      "text/plain": [
       "(1424, 200)"
      ]
     },
     "execution_count": 7,
     "metadata": {},
     "output_type": "execute_result"
    }
   ],
   "source": [
    "X = pad_sequences(X, maxlen=max_tweets_length)\n",
    "X.shape"
   ]
  },
  {
   "cell_type": "code",
   "execution_count": 8,
   "id": "affiliated-limit",
   "metadata": {},
   "outputs": [
    {
     "data": {
      "text/plain": [
       "(1424,)"
      ]
     },
     "execution_count": 8,
     "metadata": {},
     "output_type": "execute_result"
    }
   ],
   "source": [
    "Y = df['polarity']\n",
    "Y.shape"
   ]
  },
  {
   "cell_type": "code",
   "execution_count": 9,
   "id": "thrown-times",
   "metadata": {},
   "outputs": [
    {
     "name": "stdout",
     "output_type": "stream",
     "text": [
      "Training data size :  (1281, 200) (1281,)\n",
      "Test data size :  (143, 200) (143,)\n"
     ]
    }
   ],
   "source": [
    "X_train, X_test, Y_train, Y_test= train_test_split(X,Y, test_size = 0.1, random_state = 42)\n",
    "print(\"Training data size : \", X_train.shape, Y_train.shape)\n",
    "print(\"Test data size : \", X_test.shape, Y_test.shape)"
   ]
  },
  {
   "cell_type": "code",
   "execution_count": 10,
   "id": "adult-printer",
   "metadata": {},
   "outputs": [
    {
     "name": "stdout",
     "output_type": "stream",
     "text": [
      "Model: \"sequential\"\n",
      "_________________________________________________________________\n",
      " Layer (type)                Output Shape              Param #   \n",
      "=================================================================\n",
      " embedding (Embedding)       (None, 200, 32)           320000    \n",
      "                                                                 \n",
      " dropout (Dropout)           (None, 200, 32)           0         \n",
      "                                                                 \n",
      " lstm (LSTM)                 (None, 100)               53200     \n",
      "                                                                 \n",
      " dense (Dense)               (None, 1)                 101       \n",
      "                                                                 \n",
      "=================================================================\n",
      "Total params: 373,301\n",
      "Trainable params: 373,301\n",
      "Non-trainable params: 0\n",
      "_________________________________________________________________\n",
      "<keras.engine.sequential.Sequential object at 0x000001F15D8B13A0>\n"
     ]
    }
   ],
   "source": [
    "output_dim = 32 #Dimensi embedding dari output\n",
    "model = Sequential()\n",
    "model.add(Embedding(input_dim, output_dim, input_length=X.shape[1])) #Input layer\n",
    "model.add(Dropout(0.5)) #Dropout layer\n",
    "model.add(LSTM(100)) #LSTM layer\n",
    "model.add(Dense(1, activation='sigmoid')) #Output layer\n",
    "model.compile(loss='binary_crossentropy', optimizer='adam', metrics=['accuracy'])\n",
    "model.summary()\n",
    "print (model)"
   ]
  },
  {
   "cell_type": "code",
   "execution_count": 11,
   "id": "magnetic-council",
   "metadata": {},
   "outputs": [
    {
     "name": "stdout",
     "output_type": "stream",
     "text": [
      "Epoch 1/20\n",
      "16/16 [==============================] - 8s 359ms/step - loss: 0.6926 - accuracy: 0.4980 - val_loss: 0.6903 - val_accuracy: 0.6887\n",
      "Epoch 2/20\n",
      "16/16 [==============================] - 5s 341ms/step - loss: 0.6835 - accuracy: 0.7070 - val_loss: 0.6784 - val_accuracy: 0.6109\n",
      "Epoch 3/20\n",
      "16/16 [==============================] - 6s 347ms/step - loss: 0.6394 - accuracy: 0.7207 - val_loss: 0.6279 - val_accuracy: 0.7082\n",
      "Epoch 4/20\n",
      "16/16 [==============================] - 6s 352ms/step - loss: 0.5469 - accuracy: 0.7773 - val_loss: 0.6172 - val_accuracy: 0.6304\n",
      "Epoch 5/20\n",
      "16/16 [==============================] - 6s 359ms/step - loss: 0.4743 - accuracy: 0.7949 - val_loss: 0.5137 - val_accuracy: 0.7665\n",
      "Epoch 6/20\n",
      "16/16 [==============================] - 6s 357ms/step - loss: 0.3982 - accuracy: 0.8818 - val_loss: 0.4564 - val_accuracy: 0.8171\n",
      "Epoch 7/20\n",
      "16/16 [==============================] - 6s 357ms/step - loss: 0.3280 - accuracy: 0.9229 - val_loss: 0.4092 - val_accuracy: 0.8444\n",
      "Epoch 8/20\n",
      "16/16 [==============================] - 6s 355ms/step - loss: 0.2563 - accuracy: 0.9316 - val_loss: 0.3749 - val_accuracy: 0.8482\n",
      "Epoch 9/20\n",
      "16/16 [==============================] - 6s 354ms/step - loss: 0.2076 - accuracy: 0.9453 - val_loss: 0.3523 - val_accuracy: 0.8560\n",
      "Epoch 10/20\n",
      "16/16 [==============================] - 6s 354ms/step - loss: 0.1736 - accuracy: 0.9502 - val_loss: 0.3477 - val_accuracy: 0.8599\n",
      "Epoch 11/20\n",
      "16/16 [==============================] - 6s 352ms/step - loss: 0.1447 - accuracy: 0.9561 - val_loss: 0.3301 - val_accuracy: 0.8599\n",
      "Epoch 12/20\n",
      "16/16 [==============================] - 5s 345ms/step - loss: 0.1224 - accuracy: 0.9658 - val_loss: 0.3218 - val_accuracy: 0.8521\n",
      "Epoch 13/20\n",
      "16/16 [==============================] - 6s 352ms/step - loss: 0.1078 - accuracy: 0.9697 - val_loss: 0.3215 - val_accuracy: 0.8521\n",
      "Epoch 14/20\n",
      "16/16 [==============================] - 6s 354ms/step - loss: 0.1040 - accuracy: 0.9570 - val_loss: 0.3180 - val_accuracy: 0.8638\n",
      "Epoch 15/20\n",
      "16/16 [==============================] - 6s 354ms/step - loss: 0.0931 - accuracy: 0.9688 - val_loss: 0.3233 - val_accuracy: 0.8794\n",
      "Epoch 16/20\n",
      "16/16 [==============================] - 6s 349ms/step - loss: 0.0683 - accuracy: 0.9814 - val_loss: 0.3305 - val_accuracy: 0.8716\n",
      "Epoch 17/20\n",
      "16/16 [==============================] - 5s 345ms/step - loss: 0.0707 - accuracy: 0.9795 - val_loss: 0.3289 - val_accuracy: 0.8794\n",
      "Epoch 18/20\n",
      "16/16 [==============================] - 6s 351ms/step - loss: 0.0666 - accuracy: 0.9814 - val_loss: 0.3461 - val_accuracy: 0.8716\n",
      "Epoch 19/20\n",
      "16/16 [==============================] - 6s 354ms/step - loss: 0.0640 - accuracy: 0.9795 - val_loss: 0.3334 - val_accuracy: 0.9027\n",
      "Epoch 20/20\n",
      "16/16 [==============================] - 6s 358ms/step - loss: 0.0638 - accuracy: 0.9756 - val_loss: 0.3354 - val_accuracy: 0.8872\n"
     ]
    },
    {
     "data": {
      "text/plain": [
       "<keras.callbacks.History at 0x1f15df004c0>"
      ]
     },
     "execution_count": 11,
     "metadata": {},
     "output_type": "execute_result"
    }
   ],
   "source": [
    "model.fit(X_train, Y_train, epochs=20, batch_size=64, validation_split=0.2)"
   ]
  },
  {
   "cell_type": "code",
   "execution_count": 12,
   "id": "brave-plasma",
   "metadata": {},
   "outputs": [
    {
     "name": "stdout",
     "output_type": "stream",
     "text": [
      "5/5 [==============================] - 1s 63ms/step\n",
      "              precision    recall  f1-score   support\n",
      "\n",
      "           0       0.92      0.92      0.92        71\n",
      "           1       0.92      0.92      0.92        72\n",
      "\n",
      "    accuracy                           0.92       143\n",
      "   macro avg       0.92      0.92      0.92       143\n",
      "weighted avg       0.92      0.92      0.92       143\n",
      "\n",
      "Accuracy of the model :  0.916083916083916\n",
      "F1-score:  0.9166666666666666\n",
      "Confusion matrix:\n"
     ]
    },
    {
     "data": {
      "text/plain": [
       "array([[65,  6],\n",
       "       [ 6, 66]], dtype=int64)"
      ]
     },
     "execution_count": 12,
     "metadata": {},
     "output_type": "execute_result"
    }
   ],
   "source": [
    "prediction = model.predict(X_test)\n",
    "Y_pred = (prediction > 0.5)\n",
    "from sklearn.metrics import classification_report\n",
    "print(classification_report(Y_test, Y_pred))\n",
    "print(\"Accuracy of the model : \", accuracy_score(Y_pred, Y_test))\n",
    "print('F1-score: ', f1_score(Y_pred, Y_test))\n",
    "print('Confusion matrix:')\n",
    "confusion_matrix(Y_test,Y_pred)"
   ]
  },
  {
   "cell_type": "code",
   "execution_count": 13,
   "id": "japanese-movie",
   "metadata": {},
   "outputs": [
    {
     "data": {
      "image/png": "[encoded data removed]",
      "text/plain": [
       "<Figure size 576x432 with 2 Axes>"
      ]
     },
     "metadata": {
      "needs_background": "light"
     },
     "output_type": "display_data"
    }
   ],
   "source": [
    "import matplotlib.pyplot as plt\n",
    "import seaborn as sns\n",
    "fig, ax = plt.subplots(figsize = (8,6))\n",
    "sns.heatmap(confusion_matrix(y_true = Y_test, y_pred = Y_pred), fmt = 'g', annot = True)\n",
    "ax.xaxis.set_label_position('top')\n",
    "ax.xaxis.set_ticks_position('top')\n",
    "ax.set_xlabel('Prediction', fontsize = 14)\n",
    "ax.set_xticklabels(['negatif (0)', 'positif (1)'])\n",
    "ax.set_ylabel('Actual', fontsize = 14)\n",
    "ax.set_yticklabels(['negatif (0)', 'positif (1)'])\n",
    "plt.show()"
   ]
  },
  {
   "cell_type": "code",
   "execution_count": 14,
   "id": "thick-chain",
   "metadata": {},
   "outputs": [
    {
     "data": {
      "text/plain": [
       "<keras.engine.sequential.Sequential at 0x1f15d8b13a0>"
      ]
     },
     "execution_count": 14,
     "metadata": {},
     "output_type": "execute_result"
    }
   ],
   "source": [
    "model"
   ]
  },
  {
   "cell_type": "code",
   "execution_count": 15,
   "id": "fatty-arizona",
   "metadata": {},
   "outputs": [
    {
     "data": {
      "text/html": [
       "<div>\n",
       "<style scoped>\n",
       "    .dataframe tbody tr th:only-of-type {\n",
       "        vertical-align: middle;\n",
       "    }\n",
       "\n",
       "    .dataframe tbody tr th {\n",
       "        vertical-align: top;\n",
       "    }\n",
       "\n",
       "    .dataframe thead th {\n",
       "        text-align: right;\n",
       "    }\n",
       "</style>\n",
       "<table border=\"1\" class=\"dataframe\">\n",
       "  <thead>\n",
       "    <tr style=\"text-align: right;\">\n",
       "      <th></th>\n",
       "      <th>waktu</th>\n",
       "      <th>tweets</th>\n",
       "    </tr>\n",
       "  </thead>\n",
       "  <tbody>\n",
       "    <tr>\n",
       "      <th>0</th>\n",
       "      <td>2022-12-23 03:01:06</td>\n",
       "      <td>picu konflik sara sengaja lolos cipta kondisi ...</td>\n",
       "    </tr>\n",
       "    <tr>\n",
       "      <th>1</th>\n",
       "      <td>2022-12-23 02:57:23</td>\n",
       "      <td>jokowi milu sportif demokrat upaya tunda milu</td>\n",
       "    </tr>\n",
       "    <tr>\n",
       "      <th>2</th>\n",
       "      <td>2022-12-23 02:45:22</td>\n",
       "      <td>tahap tunda milu</td>\n",
       "    </tr>\n",
       "    <tr>\n",
       "      <th>3</th>\n",
       "      <td>2022-12-23 02:45:17</td>\n",
       "      <td>hubung gara ketua kpu cabul milu tunda</td>\n",
       "    </tr>\n",
       "    <tr>\n",
       "      <th>4</th>\n",
       "      <td>2022-12-23 02:43:29</td>\n",
       "      <td>tunda</td>\n",
       "    </tr>\n",
       "  </tbody>\n",
       "</table>\n",
       "</div>"
      ],
      "text/plain": [
       "                 waktu                                             tweets\n",
       "0  2022-12-23 03:01:06  picu konflik sara sengaja lolos cipta kondisi ...\n",
       "1  2022-12-23 02:57:23      jokowi milu sportif demokrat upaya tunda milu\n",
       "2  2022-12-23 02:45:22                                   tahap tunda milu\n",
       "3  2022-12-23 02:45:17             hubung gara ketua kpu cabul milu tunda\n",
       "4  2022-12-23 02:43:29                                              tunda"
      ]
     },
     "execution_count": 15,
     "metadata": {},
     "output_type": "execute_result"
    }
   ],
   "source": [
    "# Load dataset\n",
    "tweet_df = pd.read_csv(\"data_klasifikasi.csv\", encoding ='unicode_escape')\n",
    "tweet_df.head(5)"
   ]
  },
  {
   "cell_type": "code",
   "execution_count": 16,
   "id": "former-cylinder",
   "metadata": {},
   "outputs": [
    {
     "data": {
      "text/html": [
       "<div>\n",
       "<style scoped>\n",
       "    .dataframe tbody tr th:only-of-type {\n",
       "        vertical-align: middle;\n",
       "    }\n",
       "\n",
       "    .dataframe tbody tr th {\n",
       "        vertical-align: top;\n",
       "    }\n",
       "\n",
       "    .dataframe thead th {\n",
       "        text-align: right;\n",
       "    }\n",
       "</style>\n",
       "<table border=\"1\" class=\"dataframe\">\n",
       "  <thead>\n",
       "    <tr style=\"text-align: right;\">\n",
       "      <th></th>\n",
       "      <th>waktu</th>\n",
       "      <th>tweets</th>\n",
       "    </tr>\n",
       "  </thead>\n",
       "  <tbody>\n",
       "    <tr>\n",
       "      <th>0</th>\n",
       "      <td>2022-12-23 03:01:06</td>\n",
       "      <td>picu konflik sara sengaja lolos cipta kondisi ...</td>\n",
       "    </tr>\n",
       "    <tr>\n",
       "      <th>1</th>\n",
       "      <td>2022-12-23 02:57:23</td>\n",
       "      <td>jokowi milu sportif demokrat upaya tunda milu</td>\n",
       "    </tr>\n",
       "    <tr>\n",
       "      <th>2</th>\n",
       "      <td>2022-12-23 02:45:22</td>\n",
       "      <td>tahap tunda milu</td>\n",
       "    </tr>\n",
       "    <tr>\n",
       "      <th>3</th>\n",
       "      <td>2022-12-23 02:45:17</td>\n",
       "      <td>hubung gara ketua kpu cabul milu tunda</td>\n",
       "    </tr>\n",
       "    <tr>\n",
       "      <th>4</th>\n",
       "      <td>2022-12-23 02:43:29</td>\n",
       "      <td>tunda</td>\n",
       "    </tr>\n",
       "  </tbody>\n",
       "</table>\n",
       "</div>"
      ],
      "text/plain": [
       "                 waktu                                             tweets\n",
       "0  2022-12-23 03:01:06  picu konflik sara sengaja lolos cipta kondisi ...\n",
       "1  2022-12-23 02:57:23      jokowi milu sportif demokrat upaya tunda milu\n",
       "2  2022-12-23 02:45:22                                   tahap tunda milu\n",
       "3  2022-12-23 02:45:17             hubung gara ketua kpu cabul milu tunda\n",
       "4  2022-12-23 02:43:29                                              tunda"
      ]
     },
     "execution_count": 16,
     "metadata": {},
     "output_type": "execute_result"
    }
   ],
   "source": [
    "#definisi dataframe\n",
    "df = pd.DataFrame(tweet_df[['waktu', 'tweets']])\n",
    "df.head()"
   ]
  },
  {
   "cell_type": "code",
   "execution_count": 17,
   "id": "solved-edward",
   "metadata": {},
   "outputs": [
    {
     "name": "stdout",
     "output_type": "stream",
     "text": [
      "21/21 [==============================] - 1s 67ms/step\n"
     ]
    },
    {
     "data": {
      "text/html": [
       "<div>\n",
       "<style scoped>\n",
       "    .dataframe tbody tr th:only-of-type {\n",
       "        vertical-align: middle;\n",
       "    }\n",
       "\n",
       "    .dataframe tbody tr th {\n",
       "        vertical-align: top;\n",
       "    }\n",
       "\n",
       "    .dataframe thead th {\n",
       "        text-align: right;\n",
       "    }\n",
       "</style>\n",
       "<table border=\"1\" class=\"dataframe\">\n",
       "  <thead>\n",
       "    <tr style=\"text-align: right;\">\n",
       "      <th></th>\n",
       "      <th>Waktu</th>\n",
       "      <th>Tweets</th>\n",
       "      <th>Sentimen</th>\n",
       "    </tr>\n",
       "  </thead>\n",
       "  <tbody>\n",
       "    <tr>\n",
       "      <th>0</th>\n",
       "      <td>2022-12-23 03:01:06</td>\n",
       "      <td>picu konflik sara sengaja lolos cipta kondisi ...</td>\n",
       "      <td>1</td>\n",
       "    </tr>\n",
       "    <tr>\n",
       "      <th>1</th>\n",
       "      <td>2022-12-23 02:57:23</td>\n",
       "      <td>jokowi milu sportif demokrat upaya tunda milu</td>\n",
       "      <td>0</td>\n",
       "    </tr>\n",
       "    <tr>\n",
       "      <th>2</th>\n",
       "      <td>2022-12-23 02:45:22</td>\n",
       "      <td>tahap tunda milu</td>\n",
       "      <td>0</td>\n",
       "    </tr>\n",
       "    <tr>\n",
       "      <th>3</th>\n",
       "      <td>2022-12-23 02:45:17</td>\n",
       "      <td>hubung gara ketua kpu cabul milu tunda</td>\n",
       "      <td>0</td>\n",
       "    </tr>\n",
       "    <tr>\n",
       "      <th>4</th>\n",
       "      <td>2022-12-23 02:43:29</td>\n",
       "      <td>tunda</td>\n",
       "      <td>1</td>\n",
       "    </tr>\n",
       "    <tr>\n",
       "      <th>...</th>\n",
       "      <td>...</td>\n",
       "      <td>...</td>\n",
       "      <td>...</td>\n",
       "    </tr>\n",
       "    <tr>\n",
       "      <th>645</th>\n",
       "      <td>2022-12-13 23:19:42</td>\n",
       "      <td>tuju cerita tunda milu wacana periode</td>\n",
       "      <td>0</td>\n",
       "    </tr>\n",
       "    <tr>\n",
       "      <th>646</th>\n",
       "      <td>2022-12-13 22:52:45</td>\n",
       "      <td>negara nenek moyang kudeta konstitusi undang b...</td>\n",
       "      <td>1</td>\n",
       "    </tr>\n",
       "    <tr>\n",
       "      <th>647</th>\n",
       "      <td>2022-12-13 22:23:28</td>\n",
       "      <td>cebong ngotot tunda milu periode iya iya kasih...</td>\n",
       "      <td>0</td>\n",
       "    </tr>\n",
       "    <tr>\n",
       "      <th>648</th>\n",
       "      <td>2022-12-13 22:04:54</td>\n",
       "      <td>harus milu tundatetapi tiadakansoal dpn matara...</td>\n",
       "      <td>0</td>\n",
       "    </tr>\n",
       "    <tr>\n",
       "      <th>649</th>\n",
       "      <td>2022-12-13 22:03:34</td>\n",
       "      <td>memble ikn tunda milu periode</td>\n",
       "      <td>1</td>\n",
       "    </tr>\n",
       "  </tbody>\n",
       "</table>\n",
       "<p>650 rows × 3 columns</p>\n",
       "</div>"
      ],
      "text/plain": [
       "                   Waktu                                             Tweets  \\\n",
       "0    2022-12-23 03:01:06  picu konflik sara sengaja lolos cipta kondisi ...   \n",
       "1    2022-12-23 02:57:23      jokowi milu sportif demokrat upaya tunda milu   \n",
       "2    2022-12-23 02:45:22                                   tahap tunda milu   \n",
       "3    2022-12-23 02:45:17             hubung gara ketua kpu cabul milu tunda   \n",
       "4    2022-12-23 02:43:29                                              tunda   \n",
       "..                   ...                                                ...   \n",
       "645  2022-12-13 23:19:42              tuju cerita tunda milu wacana periode   \n",
       "646  2022-12-13 22:52:45  negara nenek moyang kudeta konstitusi undang b...   \n",
       "647  2022-12-13 22:23:28  cebong ngotot tunda milu periode iya iya kasih...   \n",
       "648  2022-12-13 22:04:54  harus milu tundatetapi tiadakansoal dpn matara...   \n",
       "649  2022-12-13 22:03:34                      memble ikn tunda milu periode   \n",
       "\n",
       "     Sentimen  \n",
       "0           1  \n",
       "1           0  \n",
       "2           0  \n",
       "3           0  \n",
       "4           1  \n",
       "..        ...  \n",
       "645         0  \n",
       "646         1  \n",
       "647         0  \n",
       "648         0  \n",
       "649         1  \n",
       "\n",
       "[650 rows x 3 columns]"
      ]
     },
     "execution_count": 17,
     "metadata": {},
     "output_type": "execute_result"
    }
   ],
   "source": [
    "def TestModel (data):\n",
    "    input_dim = 1000 #Ukuran max dimensi kata\n",
    "    max_tweets_length = 200 #Batas max panjang sequence kata\n",
    "    texts = pd.concat([tweet_df['tweets']], axis = 0).astype(\"str\")\n",
    "    tokenizer = Tokenizer(num_words=input_dim)\n",
    "    tokenizer.fit_on_texts(texts) \n",
    "        \n",
    "    X_tok = tokenizer.texts_to_sequences(texts)\n",
    "    X_pad = pad_sequences(X_tok, maxlen=max_tweets_length)\n",
    "    std_pred = model.predict(X_pad)\n",
    "    pred_labels = []\n",
    "    for i in std_pred:\n",
    "        if i >= 0.5:\n",
    "            pred_labels.append(1)\n",
    "        else:\n",
    "            pred_labels.append(0)\n",
    "    \n",
    "    df = pd.DataFrame(data = {'Waktu' : tweet_df['waktu'],'Tweets' : texts,  'Sentimen' : pred_labels})\n",
    "    return df\n",
    "\n",
    "TestModel(texts)"
   ]
  },
  {
   "cell_type": "code",
   "execution_count": 18,
   "id": "unique-married",
   "metadata": {},
   "outputs": [
    {
     "name": "stdout",
     "output_type": "stream",
     "text": [
      "21/21 [==============================] - 1s 65ms/step\n"
     ]
    }
   ],
   "source": [
    "#TestModel(texts).to_csv('Hasil_Test/Analisis_LSTM.csv',encoding='utf8', index=False)"
   ]
  },
  {
   "cell_type": "code",
   "execution_count": 19,
   "id": "wired-newman",
   "metadata": {},
   "outputs": [
    {
     "data": {
      "text/html": [
       "<div>\n",
       "<style scoped>\n",
       "    .dataframe tbody tr th:only-of-type {\n",
       "        vertical-align: middle;\n",
       "    }\n",
       "\n",
       "    .dataframe tbody tr th {\n",
       "        vertical-align: top;\n",
       "    }\n",
       "\n",
       "    .dataframe thead th {\n",
       "        text-align: right;\n",
       "    }\n",
       "</style>\n",
       "<table border=\"1\" class=\"dataframe\">\n",
       "  <thead>\n",
       "    <tr style=\"text-align: right;\">\n",
       "      <th></th>\n",
       "      <th>Waktu</th>\n",
       "      <th>Tweets</th>\n",
       "      <th>Sentimen</th>\n",
       "    </tr>\n",
       "  </thead>\n",
       "  <tbody>\n",
       "    <tr>\n",
       "      <th>0</th>\n",
       "      <td>2022-12-23 03:01:06</td>\n",
       "      <td>picu konflik sara sengaja lolos cipta kondisi ...</td>\n",
       "      <td>1</td>\n",
       "    </tr>\n",
       "    <tr>\n",
       "      <th>1</th>\n",
       "      <td>2022-12-23 02:57:23</td>\n",
       "      <td>jokowi milu sportif demokrat upaya tunda milu</td>\n",
       "      <td>0</td>\n",
       "    </tr>\n",
       "    <tr>\n",
       "      <th>2</th>\n",
       "      <td>2022-12-23 02:45:22</td>\n",
       "      <td>tahap tunda milu</td>\n",
       "      <td>0</td>\n",
       "    </tr>\n",
       "    <tr>\n",
       "      <th>3</th>\n",
       "      <td>2022-12-23 02:45:17</td>\n",
       "      <td>hubung gara ketua kpu cabul milu tunda</td>\n",
       "      <td>0</td>\n",
       "    </tr>\n",
       "    <tr>\n",
       "      <th>4</th>\n",
       "      <td>2022-12-23 02:43:29</td>\n",
       "      <td>tunda</td>\n",
       "      <td>1</td>\n",
       "    </tr>\n",
       "  </tbody>\n",
       "</table>\n",
       "</div>"
      ],
      "text/plain": [
       "                 Waktu                                             Tweets  \\\n",
       "0  2022-12-23 03:01:06  picu konflik sara sengaja lolos cipta kondisi ...   \n",
       "1  2022-12-23 02:57:23      jokowi milu sportif demokrat upaya tunda milu   \n",
       "2  2022-12-23 02:45:22                                   tahap tunda milu   \n",
       "3  2022-12-23 02:45:17             hubung gara ketua kpu cabul milu tunda   \n",
       "4  2022-12-23 02:43:29                                              tunda   \n",
       "\n",
       "   Sentimen  \n",
       "0         1  \n",
       "1         0  \n",
       "2         0  \n",
       "3         0  \n",
       "4         1  "
      ]
     },
     "execution_count": 19,
     "metadata": {},
     "output_type": "execute_result"
    }
   ],
   "source": [
    "# Load dataset\n",
    "tweet_df = pd.read_csv(\"Hasil_Test/Analisis_LSTM.csv\", encoding ='utf8')\n",
    "tweet_df.head(5)"
   ]
  },
  {
   "cell_type": "code",
   "execution_count": 20,
   "id": "elegant-reasoning",
   "metadata": {},
   "outputs": [
    {
     "data": {
      "text/plain": [
       "1    344\n",
       "0    306\n",
       "Name: Sentimen, dtype: int64"
      ]
     },
     "execution_count": 20,
     "metadata": {},
     "output_type": "execute_result"
    }
   ],
   "source": [
    "tweet_df['Sentimen'].value_counts()"
   ]
  },
  {
   "cell_type": "code",
   "execution_count": 21,
   "id": "premium-cisco",
   "metadata": {},
   "outputs": [],
   "source": [
    "def polarity_encode(x):\n",
    "    if(x == 1):\n",
    "        return 'Positif'\n",
    "    if(x == 0):\n",
    "        return 'Negatif'\n",
    "tweet_df.Sentimen = tweet_df.Sentimen.apply(polarity_encode)\n",
    "#tweet_df.head()"
   ]
  },
  {
   "cell_type": "code",
   "execution_count": 23,
   "id": "instrumental-exhaust",
   "metadata": {},
   "outputs": [
    {
     "data": {
      "image/png": "[encoded data removed]",
      "text/plain": [
       "<Figure size 288x288 with 1 Axes>"
      ]
     },
     "metadata": {},
     "output_type": "display_data"
    },
    {
     "data": {
      "text/plain": [
       "<Figure size 432x288 with 0 Axes>"
      ]
     },
     "metadata": {},
     "output_type": "display_data"
    }
   ],
   "source": [
    "import matplotlib.pyplot as plt\n",
    "fig, ax = plt.subplots(figsize = (4, 4))\n",
    "sizes = [count for count in tweet_df['Sentimen'].value_counts()]\n",
    "labels = list(tweet_df['Sentimen'].value_counts().index)\n",
    "explode = (0, 0)\n",
    "ax.pie(x = sizes, labels = labels, autopct = '%1.1f%%', explode = explode, textprops={'fontsize': 10})\n",
    "plt.show()\n",
    "plt.savefig(\"gambar/klasifikasi_lstm.png\")"
   ]
  },
  {
   "cell_type": "code",
   "execution_count": null,
   "id": "dirty-socket",
   "metadata": {},
   "outputs": [],
   "source": []
  }
 ],
 "metadata": {
  "kernelspec": {
   "display_name": "Python 3",
   "language": "python",
   "name": "python3"
  },
  "language_info": {
   "codemirror_mode": {
    "name": "ipython",
    "version": 3
   },
   "file_extension": ".py",
   "mimetype": "text/x-python",
   "name": "python",
   "nbconvert_exporter": "python",
   "pygments_lexer": "ipython3",
   "version": "3.9.2"
  }
 },
 "nbformat": 4,
 "nbformat_minor": 5
}
